{
  "nbformat": 4,
  "nbformat_minor": 0,
  "metadata": {
    "colab": {
      "provenance": []
    },
    "kernelspec": {
      "name": "python3",
      "display_name": "Python 3"
    },
    "language_info": {
      "name": "python"
    }
  },
  "cells": [
    {
      "cell_type": "code",
      "source": [
        "%%capture\n",
        "#!pip install python-constraint\n",
        "# https://stackabuse.com/constraint-programming-with-python-constraint/\n",
        "!git clone https://github.com/Ellariel/pv-opt"
      ],
      "metadata": {
        "id": "c2hH010Gh8eO"
      },
      "execution_count": 27,
      "outputs": []
    },
    {
      "cell_type": "code",
      "execution_count": 28,
      "metadata": {
        "id": "wskhwH2UTUC5"
      },
      "outputs": [],
      "source": [
        "import json, time, requests, uuid, os, datetime, random\n",
        "import pandas as pd, numpy as np, pickle\n",
        "from tqdm.notebook import tqdm\n",
        "from pandas import json_normalize\n",
        "#import constraint, itertools\n",
        "from datetime import date\n",
        "from dateutil.rrule import rrule, DAILY"
      ]
    },
    {
      "cell_type": "code",
      "source": [
        "d = pd.read_excel('/content/pv-opt/profiles.xls', sheet_name='G1', skiprows=2).dropna()\n",
        "d.columns = ['t', 'winter_sam', 'winter_son', 'winter_werk',\n",
        "                'sommer_sam', 'sommer_son', 'sommer_werk',\n",
        "                'other_sam', 'other_son', 'other_werk']\n",
        "\n",
        "months = {'January' : 'winter',\n",
        "          'February' : 'winter',\n",
        "          'December' : 'winter',\n",
        "          'June' : 'sommer',\n",
        "          'July' : 'sommer',\n",
        "          'August' : 'sommer',\n",
        "          'March' : 'other',\n",
        "          'April' : 'other',\n",
        "          'May' : 'other',\n",
        "          'September' : 'other',\n",
        "          'October' : 'other',\n",
        "          'November' : 'other'}\n",
        "a = date(2022, 1, 1)\n",
        "b = date(2022, 12, 31)\n",
        "consumption = None\n",
        "for dt in rrule(DAILY, dtstart=a, until=b):\n",
        "    season_key = months[dt.strftime(\"%B\")]\n",
        "    if dt.strftime('%A') == 'Saturday':\n",
        "      day_key = 'sam'\n",
        "    elif dt.strftime('%A') == 'Sunday':\n",
        "      day_key = 'son'\n",
        "    else:\n",
        "      day_key = 'werk'\n",
        "    s = d[['t', season_key+'_'+day_key]].copy()\n",
        "    s.columns = ['t', 'w']\n",
        "    #s['t'] = s['t'].apply(lambda x: datetime.datetime.strptime(dt.strftime(\"%Y-%m-%d\") + ' ' + x.strftime(\"%H:%M:%S\"), \"%Y-%m-%d %H:%M:%S\"))\n",
        "    s['t'] = s['t'].apply(lambda x: dt.strftime(\"%Y-%m-%d\") + ' ' + x.strftime(\"%H:%M:%S\"))\n",
        "    consumption = pd.concat([consumption, s], ignore_index=True)\n",
        "#datetime.datetime.timestamp(\n",
        "#consumption = {int(k): v['w'] for k, v in consumption.set_index('t').to_dict(orient='index').items()}\n",
        "consumption['w'] = consumption['w']*10 #scale up to yearly consumption of 40.000 kWh\n",
        "print(f\"total W: {consumption['w'].sum()}\")\n",
        "consumption.to_csv('G1.csv', index=False)"
      ],
      "metadata": {
        "id": "vfPTsYFSITym",
        "colab": {
          "base_uri": "https://localhost:8080/"
        },
        "outputId": "cee67356-fc90-4364-bb95-35f319e2db12"
      },
      "execution_count": null,
      "outputs": [
        {
          "output_type": "stream",
          "name": "stdout",
          "text": [
            "total W: 41001442.0\n"
          ]
        }
      ]
    },
    {
      "cell_type": "code",
      "source": [
        "d = pd.read_csv('/content/pv-opt/consumption/mook.csv')\n",
        "d['w'] = d['w']/99+69000 #yearly consumption 600.000kWh\n",
        "print(f\"total W: {d['w'].sum()}\")\n",
        "d.to_csv('pumps.csv', index=False)"
      ],
      "metadata": {
        "colab": {
          "base_uri": "https://localhost:8080/"
        },
        "id": "YwXZTkfcwl_p",
        "outputId": "40f9dbed-4250-4ace-d028-76fb54bf445f"
      },
      "execution_count": 34,
      "outputs": [
        {
          "output_type": "stream",
          "name": "stdout",
          "text": [
            "total W: 606100479.0899453\n"
          ]
        }
      ]
    },
    {
      "cell_type": "code",
      "source": [],
      "metadata": {
        "id": "JhwTdYrGwnuh"
      },
      "execution_count": null,
      "outputs": []
    },
    {
      "cell_type": "code",
      "source": [],
      "metadata": {
        "id": "ImeBeKPTwnxi"
      },
      "execution_count": null,
      "outputs": []
    },
    {
      "cell_type": "code",
      "source": [],
      "metadata": {
        "id": "MzUG1s3uwn08"
      },
      "execution_count": null,
      "outputs": []
    },
    {
      "cell_type": "code",
      "source": [],
      "metadata": {
        "id": "mxOJWkh27NYg"
      },
      "execution_count": null,
      "outputs": []
    },
    {
      "cell_type": "code",
      "source": [],
      "metadata": {
        "id": "TT5ck62y7NbG"
      },
      "execution_count": null,
      "outputs": []
    },
    {
      "cell_type": "code",
      "source": [],
      "metadata": {
        "id": "_PHF4O-G7Ndx"
      },
      "execution_count": null,
      "outputs": []
    },
    {
      "cell_type": "code",
      "source": [],
      "metadata": {
        "id": "fBAfGfqH7Nge"
      },
      "execution_count": null,
      "outputs": []
    },
    {
      "cell_type": "code",
      "source": [],
      "metadata": {
        "id": "NntKFIo17Nj5"
      },
      "execution_count": null,
      "outputs": []
    },
    {
      "cell_type": "code",
      "source": [
        "with open('/content/pv-opt/consumption/mook.json', 'r') as fp:\n",
        "   d = pd.read_json(json.load(fp)).reset_index()\n",
        "   d.columns = ['t', 'w']\n",
        "   print(f\"total kW: {d['w'].sum()}\")\n",
        "   d.to_csv('mook.csv', index=False)"
      ],
      "metadata": {
        "id": "tR4IM-XkIVJy",
        "colab": {
          "base_uri": "https://localhost:8080/",
          "height": 245
        },
        "outputId": "3ffdc0e3-157a-4405-ccee-c46904287a55"
      },
      "execution_count": null,
      "outputs": [
        {
          "output_type": "error",
          "ename": "FileNotFoundError",
          "evalue": "ignored",
          "traceback": [
            "\u001b[0;31m---------------------------------------------------------------------------\u001b[0m",
            "\u001b[0;31mFileNotFoundError\u001b[0m                         Traceback (most recent call last)",
            "\u001b[0;32m<ipython-input-7-762dc2564ca8>\u001b[0m in \u001b[0;36m<cell line: 1>\u001b[0;34m()\u001b[0m\n\u001b[0;32m----> 1\u001b[0;31m \u001b[0;32mwith\u001b[0m \u001b[0mopen\u001b[0m\u001b[0;34m(\u001b[0m\u001b[0;34m'/content/pv-opt/consumption/mook.json'\u001b[0m\u001b[0;34m,\u001b[0m \u001b[0;34m'r'\u001b[0m\u001b[0;34m)\u001b[0m \u001b[0;32mas\u001b[0m \u001b[0mfp\u001b[0m\u001b[0;34m:\u001b[0m\u001b[0;34m\u001b[0m\u001b[0;34m\u001b[0m\u001b[0m\n\u001b[0m\u001b[1;32m      2\u001b[0m    \u001b[0md\u001b[0m \u001b[0;34m=\u001b[0m \u001b[0mpd\u001b[0m\u001b[0;34m.\u001b[0m\u001b[0mread_json\u001b[0m\u001b[0;34m(\u001b[0m\u001b[0mjson\u001b[0m\u001b[0;34m.\u001b[0m\u001b[0mload\u001b[0m\u001b[0;34m(\u001b[0m\u001b[0mfp\u001b[0m\u001b[0;34m)\u001b[0m\u001b[0;34m)\u001b[0m\u001b[0;34m.\u001b[0m\u001b[0mreset_index\u001b[0m\u001b[0;34m(\u001b[0m\u001b[0;34m)\u001b[0m\u001b[0;34m\u001b[0m\u001b[0;34m\u001b[0m\u001b[0m\n\u001b[1;32m      3\u001b[0m    \u001b[0md\u001b[0m\u001b[0;34m.\u001b[0m\u001b[0mcolumns\u001b[0m \u001b[0;34m=\u001b[0m \u001b[0;34m[\u001b[0m\u001b[0;34m't'\u001b[0m\u001b[0;34m,\u001b[0m \u001b[0;34m'w'\u001b[0m\u001b[0;34m]\u001b[0m\u001b[0;34m\u001b[0m\u001b[0;34m\u001b[0m\u001b[0m\n\u001b[1;32m      4\u001b[0m    \u001b[0mprint\u001b[0m\u001b[0;34m(\u001b[0m\u001b[0;34mf\"total kW: {d['w'].sum()}\"\u001b[0m\u001b[0;34m)\u001b[0m\u001b[0;34m\u001b[0m\u001b[0;34m\u001b[0m\u001b[0m\n\u001b[1;32m      5\u001b[0m    \u001b[0md\u001b[0m\u001b[0;34m.\u001b[0m\u001b[0mto_csv\u001b[0m\u001b[0;34m(\u001b[0m\u001b[0;34m'mook.csv'\u001b[0m\u001b[0;34m,\u001b[0m \u001b[0mindex\u001b[0m\u001b[0;34m=\u001b[0m\u001b[0;32mFalse\u001b[0m\u001b[0;34m)\u001b[0m\u001b[0;34m\u001b[0m\u001b[0;34m\u001b[0m\u001b[0m\n",
            "\u001b[0;31mFileNotFoundError\u001b[0m: [Errno 2] No such file or directory: '/content/pv-opt/consumption/mook.json'"
          ]
        }
      ]
    },
    {
      "cell_type": "code",
      "source": [
        "d"
      ],
      "metadata": {
        "colab": {
          "base_uri": "https://localhost:8080/",
          "height": 423
        },
        "id": "bW2VwgzPIVMQ",
        "outputId": "1d899579-9b88-4090-a430-910924d3e60d"
      },
      "execution_count": null,
      "outputs": [
        {
          "output_type": "execute_result",
          "data": {
            "text/plain": [
              "                       t           w\n",
              "0    2016-01-01 00:11:00   18.300818\n",
              "1    2016-01-01 01:11:00   74.270985\n",
              "2    2016-01-01 02:11:00   43.797255\n",
              "3    2016-01-01 03:11:00   62.743968\n",
              "4    2016-01-01 04:11:00   96.845059\n",
              "...                  ...         ...\n",
              "8779 2016-12-31 19:11:00   83.215867\n",
              "8780 2016-12-31 20:11:00   37.806819\n",
              "8781 2016-12-31 21:11:00   13.780071\n",
              "8782 2016-12-31 22:11:00   29.895713\n",
              "8783 2016-12-31 23:11:00  102.536514\n",
              "\n",
              "[8784 rows x 2 columns]"
            ],
            "text/html": [
              "\n",
              "  <div id=\"df-7a5816ec-7696-4fdb-9d33-548cc255c7b2\" class=\"colab-df-container\">\n",
              "    <div>\n",
              "<style scoped>\n",
              "    .dataframe tbody tr th:only-of-type {\n",
              "        vertical-align: middle;\n",
              "    }\n",
              "\n",
              "    .dataframe tbody tr th {\n",
              "        vertical-align: top;\n",
              "    }\n",
              "\n",
              "    .dataframe thead th {\n",
              "        text-align: right;\n",
              "    }\n",
              "</style>\n",
              "<table border=\"1\" class=\"dataframe\">\n",
              "  <thead>\n",
              "    <tr style=\"text-align: right;\">\n",
              "      <th></th>\n",
              "      <th>t</th>\n",
              "      <th>w</th>\n",
              "    </tr>\n",
              "  </thead>\n",
              "  <tbody>\n",
              "    <tr>\n",
              "      <th>0</th>\n",
              "      <td>2016-01-01 00:11:00</td>\n",
              "      <td>18.300818</td>\n",
              "    </tr>\n",
              "    <tr>\n",
              "      <th>1</th>\n",
              "      <td>2016-01-01 01:11:00</td>\n",
              "      <td>74.270985</td>\n",
              "    </tr>\n",
              "    <tr>\n",
              "      <th>2</th>\n",
              "      <td>2016-01-01 02:11:00</td>\n",
              "      <td>43.797255</td>\n",
              "    </tr>\n",
              "    <tr>\n",
              "      <th>3</th>\n",
              "      <td>2016-01-01 03:11:00</td>\n",
              "      <td>62.743968</td>\n",
              "    </tr>\n",
              "    <tr>\n",
              "      <th>4</th>\n",
              "      <td>2016-01-01 04:11:00</td>\n",
              "      <td>96.845059</td>\n",
              "    </tr>\n",
              "    <tr>\n",
              "      <th>...</th>\n",
              "      <td>...</td>\n",
              "      <td>...</td>\n",
              "    </tr>\n",
              "    <tr>\n",
              "      <th>8779</th>\n",
              "      <td>2016-12-31 19:11:00</td>\n",
              "      <td>83.215867</td>\n",
              "    </tr>\n",
              "    <tr>\n",
              "      <th>8780</th>\n",
              "      <td>2016-12-31 20:11:00</td>\n",
              "      <td>37.806819</td>\n",
              "    </tr>\n",
              "    <tr>\n",
              "      <th>8781</th>\n",
              "      <td>2016-12-31 21:11:00</td>\n",
              "      <td>13.780071</td>\n",
              "    </tr>\n",
              "    <tr>\n",
              "      <th>8782</th>\n",
              "      <td>2016-12-31 22:11:00</td>\n",
              "      <td>29.895713</td>\n",
              "    </tr>\n",
              "    <tr>\n",
              "      <th>8783</th>\n",
              "      <td>2016-12-31 23:11:00</td>\n",
              "      <td>102.536514</td>\n",
              "    </tr>\n",
              "  </tbody>\n",
              "</table>\n",
              "<p>8784 rows × 2 columns</p>\n",
              "</div>\n",
              "    <div class=\"colab-df-buttons\">\n",
              "\n",
              "  <div class=\"colab-df-container\">\n",
              "    <button class=\"colab-df-convert\" onclick=\"convertToInteractive('df-7a5816ec-7696-4fdb-9d33-548cc255c7b2')\"\n",
              "            title=\"Convert this dataframe to an interactive table.\"\n",
              "            style=\"display:none;\">\n",
              "\n",
              "  <svg xmlns=\"http://www.w3.org/2000/svg\" height=\"24px\" viewBox=\"0 -960 960 960\">\n",
              "    <path d=\"M120-120v-720h720v720H120Zm60-500h600v-160H180v160Zm220 220h160v-160H400v160Zm0 220h160v-160H400v160ZM180-400h160v-160H180v160Zm440 0h160v-160H620v160ZM180-180h160v-160H180v160Zm440 0h160v-160H620v160Z\"/>\n",
              "  </svg>\n",
              "    </button>\n",
              "\n",
              "  <style>\n",
              "    .colab-df-container {\n",
              "      display:flex;\n",
              "      gap: 12px;\n",
              "    }\n",
              "\n",
              "    .colab-df-convert {\n",
              "      background-color: #E8F0FE;\n",
              "      border: none;\n",
              "      border-radius: 50%;\n",
              "      cursor: pointer;\n",
              "      display: none;\n",
              "      fill: #1967D2;\n",
              "      height: 32px;\n",
              "      padding: 0 0 0 0;\n",
              "      width: 32px;\n",
              "    }\n",
              "\n",
              "    .colab-df-convert:hover {\n",
              "      background-color: #E2EBFA;\n",
              "      box-shadow: 0px 1px 2px rgba(60, 64, 67, 0.3), 0px 1px 3px 1px rgba(60, 64, 67, 0.15);\n",
              "      fill: #174EA6;\n",
              "    }\n",
              "\n",
              "    .colab-df-buttons div {\n",
              "      margin-bottom: 4px;\n",
              "    }\n",
              "\n",
              "    [theme=dark] .colab-df-convert {\n",
              "      background-color: #3B4455;\n",
              "      fill: #D2E3FC;\n",
              "    }\n",
              "\n",
              "    [theme=dark] .colab-df-convert:hover {\n",
              "      background-color: #434B5C;\n",
              "      box-shadow: 0px 1px 3px 1px rgba(0, 0, 0, 0.15);\n",
              "      filter: drop-shadow(0px 1px 2px rgba(0, 0, 0, 0.3));\n",
              "      fill: #FFFFFF;\n",
              "    }\n",
              "  </style>\n",
              "\n",
              "    <script>\n",
              "      const buttonEl =\n",
              "        document.querySelector('#df-7a5816ec-7696-4fdb-9d33-548cc255c7b2 button.colab-df-convert');\n",
              "      buttonEl.style.display =\n",
              "        google.colab.kernel.accessAllowed ? 'block' : 'none';\n",
              "\n",
              "      async function convertToInteractive(key) {\n",
              "        const element = document.querySelector('#df-7a5816ec-7696-4fdb-9d33-548cc255c7b2');\n",
              "        const dataTable =\n",
              "          await google.colab.kernel.invokeFunction('convertToInteractive',\n",
              "                                                    [key], {});\n",
              "        if (!dataTable) return;\n",
              "\n",
              "        const docLinkHtml = 'Like what you see? Visit the ' +\n",
              "          '<a target=\"_blank\" href=https://colab.research.google.com/notebooks/data_table.ipynb>data table notebook</a>'\n",
              "          + ' to learn more about interactive tables.';\n",
              "        element.innerHTML = '';\n",
              "        dataTable['output_type'] = 'display_data';\n",
              "        await google.colab.output.renderOutput(dataTable, element);\n",
              "        const docLink = document.createElement('div');\n",
              "        docLink.innerHTML = docLinkHtml;\n",
              "        element.appendChild(docLink);\n",
              "      }\n",
              "    </script>\n",
              "  </div>\n",
              "\n",
              "\n",
              "<div id=\"df-b566f4eb-6579-4f40-8dd1-5d62c99b8bde\">\n",
              "  <button class=\"colab-df-quickchart\" onclick=\"quickchart('df-b566f4eb-6579-4f40-8dd1-5d62c99b8bde')\"\n",
              "            title=\"Suggest charts.\"\n",
              "            style=\"display:none;\">\n",
              "\n",
              "<svg xmlns=\"http://www.w3.org/2000/svg\" height=\"24px\"viewBox=\"0 0 24 24\"\n",
              "     width=\"24px\">\n",
              "    <g>\n",
              "        <path d=\"M19 3H5c-1.1 0-2 .9-2 2v14c0 1.1.9 2 2 2h14c1.1 0 2-.9 2-2V5c0-1.1-.9-2-2-2zM9 17H7v-7h2v7zm4 0h-2V7h2v10zm4 0h-2v-4h2v4z\"/>\n",
              "    </g>\n",
              "</svg>\n",
              "  </button>\n",
              "\n",
              "<style>\n",
              "  .colab-df-quickchart {\n",
              "      --bg-color: #E8F0FE;\n",
              "      --fill-color: #1967D2;\n",
              "      --hover-bg-color: #E2EBFA;\n",
              "      --hover-fill-color: #174EA6;\n",
              "      --disabled-fill-color: #AAA;\n",
              "      --disabled-bg-color: #DDD;\n",
              "  }\n",
              "\n",
              "  [theme=dark] .colab-df-quickchart {\n",
              "      --bg-color: #3B4455;\n",
              "      --fill-color: #D2E3FC;\n",
              "      --hover-bg-color: #434B5C;\n",
              "      --hover-fill-color: #FFFFFF;\n",
              "      --disabled-bg-color: #3B4455;\n",
              "      --disabled-fill-color: #666;\n",
              "  }\n",
              "\n",
              "  .colab-df-quickchart {\n",
              "    background-color: var(--bg-color);\n",
              "    border: none;\n",
              "    border-radius: 50%;\n",
              "    cursor: pointer;\n",
              "    display: none;\n",
              "    fill: var(--fill-color);\n",
              "    height: 32px;\n",
              "    padding: 0;\n",
              "    width: 32px;\n",
              "  }\n",
              "\n",
              "  .colab-df-quickchart:hover {\n",
              "    background-color: var(--hover-bg-color);\n",
              "    box-shadow: 0 1px 2px rgba(60, 64, 67, 0.3), 0 1px 3px 1px rgba(60, 64, 67, 0.15);\n",
              "    fill: var(--button-hover-fill-color);\n",
              "  }\n",
              "\n",
              "  .colab-df-quickchart-complete:disabled,\n",
              "  .colab-df-quickchart-complete:disabled:hover {\n",
              "    background-color: var(--disabled-bg-color);\n",
              "    fill: var(--disabled-fill-color);\n",
              "    box-shadow: none;\n",
              "  }\n",
              "\n",
              "  .colab-df-spinner {\n",
              "    border: 2px solid var(--fill-color);\n",
              "    border-color: transparent;\n",
              "    border-bottom-color: var(--fill-color);\n",
              "    animation:\n",
              "      spin 1s steps(1) infinite;\n",
              "  }\n",
              "\n",
              "  @keyframes spin {\n",
              "    0% {\n",
              "      border-color: transparent;\n",
              "      border-bottom-color: var(--fill-color);\n",
              "      border-left-color: var(--fill-color);\n",
              "    }\n",
              "    20% {\n",
              "      border-color: transparent;\n",
              "      border-left-color: var(--fill-color);\n",
              "      border-top-color: var(--fill-color);\n",
              "    }\n",
              "    30% {\n",
              "      border-color: transparent;\n",
              "      border-left-color: var(--fill-color);\n",
              "      border-top-color: var(--fill-color);\n",
              "      border-right-color: var(--fill-color);\n",
              "    }\n",
              "    40% {\n",
              "      border-color: transparent;\n",
              "      border-right-color: var(--fill-color);\n",
              "      border-top-color: var(--fill-color);\n",
              "    }\n",
              "    60% {\n",
              "      border-color: transparent;\n",
              "      border-right-color: var(--fill-color);\n",
              "    }\n",
              "    80% {\n",
              "      border-color: transparent;\n",
              "      border-right-color: var(--fill-color);\n",
              "      border-bottom-color: var(--fill-color);\n",
              "    }\n",
              "    90% {\n",
              "      border-color: transparent;\n",
              "      border-bottom-color: var(--fill-color);\n",
              "    }\n",
              "  }\n",
              "</style>\n",
              "\n",
              "  <script>\n",
              "    async function quickchart(key) {\n",
              "      const quickchartButtonEl =\n",
              "        document.querySelector('#' + key + ' button');\n",
              "      quickchartButtonEl.disabled = true;  // To prevent multiple clicks.\n",
              "      quickchartButtonEl.classList.add('colab-df-spinner');\n",
              "      try {\n",
              "        const charts = await google.colab.kernel.invokeFunction(\n",
              "            'suggestCharts', [key], {});\n",
              "      } catch (error) {\n",
              "        console.error('Error during call to suggestCharts:', error);\n",
              "      }\n",
              "      quickchartButtonEl.classList.remove('colab-df-spinner');\n",
              "      quickchartButtonEl.classList.add('colab-df-quickchart-complete');\n",
              "    }\n",
              "    (() => {\n",
              "      let quickchartButtonEl =\n",
              "        document.querySelector('#df-b566f4eb-6579-4f40-8dd1-5d62c99b8bde button');\n",
              "      quickchartButtonEl.style.display =\n",
              "        google.colab.kernel.accessAllowed ? 'block' : 'none';\n",
              "    })();\n",
              "  </script>\n",
              "</div>\n",
              "    </div>\n",
              "  </div>\n"
            ]
          },
          "metadata": {},
          "execution_count": 75
        }
      ]
    },
    {
      "cell_type": "code",
      "source": [],
      "metadata": {
        "id": "tVy_5pZQIVPf"
      },
      "execution_count": null,
      "outputs": []
    },
    {
      "cell_type": "code",
      "source": [],
      "metadata": {
        "id": "ApIt4Ga1IVSZ"
      },
      "execution_count": null,
      "outputs": []
    },
    {
      "cell_type": "code",
      "source": [],
      "metadata": {
        "id": "u-BP3an9IVVy"
      },
      "execution_count": null,
      "outputs": []
    },
    {
      "cell_type": "code",
      "source": [
        "d = pd.read_excel('/content/pv-opt/profiles.xls', sheet_name='G1', skiprows=2).dropna()\n",
        "d.columns = ['t', 'winter_sam', 'winter_son', 'winter_werk',\n",
        "                'sommer_sam', 'sommer_son', 'sommer_werk',\n",
        "                'other_sam', 'other_son', 'other_werk']\n",
        "#d = d.set_index('t')\n",
        "months = {'January' : 'winter',\n",
        "          'February' : 'winter',\n",
        "          'December' : 'winter',\n",
        "          'June' : 'sommer',\n",
        "          'July' : 'sommer',\n",
        "          'August' : 'sommer',\n",
        "          'March' : 'other',\n",
        "          'April' : 'other',\n",
        "          'May' : 'other',\n",
        "          'September' : 'other',\n",
        "          'October' : 'other',\n",
        "          'November' : 'other'}"
      ],
      "metadata": {
        "id": "OhOi5sZA8Mke"
      },
      "execution_count": null,
      "outputs": []
    },
    {
      "cell_type": "code",
      "source": [
        "a = date(2022, 1, 1)\n",
        "b = date(2022, 12, 31)\n",
        "consumption = None\n",
        "for dt in rrule(DAILY, dtstart=a, until=b):\n",
        "    season_key = months[dt.strftime(\"%B\")]\n",
        "    if dt.strftime('%A') == 'Saturday':\n",
        "      day_key = 'sam'\n",
        "    elif dt.strftime('%A') == 'Sunday':\n",
        "      day_key = 'son'\n",
        "    else:\n",
        "      day_key = 'werk'\n",
        "    s = d[['t', season_key+'_'+day_key]].copy()\n",
        "    s.columns = ['t', 'w']\n",
        "    s['t'] = s['t'].apply(lambda x: datetime.datetime.timestamp(datetime.datetime.strptime(dt.strftime(\"%Y-%m-%d\") + ' ' + x.strftime(\"%H:%M:%S\"), \"%Y-%m-%d %H:%M:%S\")))\n",
        "    consumption = pd.concat([consumption, s], ignore_index=True)\n",
        "    #print(s.to_dict(orient='records'))\n",
        "    #print(dt.strftime(\"%Y-%m-%d\"))"
      ],
      "metadata": {
        "id": "UVsHP3Y0-Kpg"
      },
      "execution_count": null,
      "outputs": []
    },
    {
      "cell_type": "code",
      "source": [
        "consumption = {k: v['w'] for k, v in consumption.set_index('t').to_dict(orient='index').items()}"
      ],
      "metadata": {
        "id": "FGS6sRJT8Mnf"
      },
      "execution_count": null,
      "outputs": []
    },
    {
      "cell_type": "code",
      "source": [],
      "metadata": {
        "id": "SUOSAVR78Mq6"
      },
      "execution_count": null,
      "outputs": []
    },
    {
      "cell_type": "code",
      "source": [],
      "metadata": {
        "id": "K3o9Cp_C8Mvi"
      },
      "execution_count": null,
      "outputs": []
    },
    {
      "cell_type": "code",
      "source": [],
      "metadata": {
        "id": "jEUdTlrl8MyU"
      },
      "execution_count": null,
      "outputs": []
    },
    {
      "cell_type": "code",
      "source": [],
      "metadata": {
        "id": "j_TSLE_z8M1H"
      },
      "execution_count": null,
      "outputs": []
    },
    {
      "cell_type": "code",
      "source": [],
      "metadata": {
        "id": "y_Lxjetm8M3s"
      },
      "execution_count": null,
      "outputs": []
    },
    {
      "cell_type": "code",
      "source": [
        "# https://docs.google.com/document/d/1hWvkCNNcFIAOSqk53JyHz27B5fMyvCu5adyz0-7fM44/edit"
      ],
      "metadata": {
        "id": "3KYZTFMG8M7Q"
      },
      "execution_count": null,
      "outputs": []
    },
    {
      "cell_type": "code",
      "source": [
        "cd pv-opt"
      ],
      "metadata": {
        "id": "MQt8Geo7ySfe",
        "colab": {
          "base_uri": "https://localhost:8080/"
        },
        "outputId": "6ceb032e-8b8f-44d6-e183-8ffb303ebb88"
      },
      "execution_count": null,
      "outputs": [
        {
          "output_type": "stream",
          "name": "stdout",
          "text": [
            "/content/pv-opt\n"
          ]
        }
      ]
    },
    {
      "cell_type": "code",
      "source": [
        "from utils import Cache\n",
        "from equip import Equipment, Location, Building, Battery, _calc_battery_costs"
      ],
      "metadata": {
        "id": "TQOpG-c3pBhQ"
      },
      "execution_count": null,
      "outputs": []
    },
    {
      "cell_type": "code",
      "source": [
        "# IC – installation costs / kWp and installation costs / kWh\n",
        "# solar panel overproduction SPO = max{0, (building solar production - building consumption)}\n",
        "# solar energy consumption SEC = min{building solar production, building consumption}\n",
        "# solar panel underproduction SPU = max{0, (building consumption - building solar production)}\n",
        "# grid buying price BP: price at which the respective energy provider is buying energy\n",
        "# grid selling price SP: price at which the respective energy provider is selling energy\n",
        "# city price CP: price at which the Genossenschaft is selling energy to the city # city_solar_energy_price\n",
        "# max: Genossenschaft profit = (SPO * BP) + (SEC * CP) – IC - roof renting costs\n",
        "# min: building energy cost = (SEC * CP) + (SPU * SP) + roof renting costs\n",
        "\n",
        "def total_building_energy_costs(b, city_solar_energy_price=1, grid_selling_price=1.5):\n",
        "  return b.total_solar_energy_consumption * city_solar_energy_price +\\\n",
        "         b.total_solar_energy_underproduction * grid_selling_price +\\\n",
        "         b.total_renting_costs"
      ],
      "metadata": {
        "id": "NDxhw0nJLuq-"
      },
      "execution_count": null,
      "outputs": []
    },
    {
      "cell_type": "code",
      "source": [
        "bt1 = Battery()\n",
        "bt2 = Battery()\n",
        "bt2.battery_capacity_Ah = 60\n",
        "bt2.battery_energy_Wh = 2880\n",
        "bt2.battery_voltage = 48\n",
        "bt2.battery_discharge_factor = 0.6\n",
        "bt2.battery_price_per_Wh = 3.738\n",
        "\n",
        "eq1 = Equipment()\n",
        "eq2 = Equipment()\n",
        "eq2.pv_size_mm = (eq2.pv_size_mm[0] * 3, eq2.pv_size_mm[1] * 3)\n",
        "\n",
        "loc1 = Location()\n",
        "loc1.equipment = [eq1]\n",
        "loc2 = Location()\n",
        "loc2.equipment = [eq2]\n",
        "\n",
        "b1 = Building()\n",
        "b1.locations = [loc1, loc2]\n",
        "building = b1\n",
        "\n",
        "print(f\"total_production: {building.production['production'].sum():.1f}\")\n",
        "print(f\"total_consumption: {building.consumption['consumption'].sum():.1f}\")\n",
        "print(f\"total_solar_energy_consumption: {building.total_solar_energy_consumption:.1f}\")\n",
        "print(f\"total_solar_energy_underproduction: {building.total_solar_energy_underproduction:.1f}\")\n",
        "print(f\"total_renting_costs: {building.total_renting_costs:.1f}\")\n",
        "\n",
        "possible_locations = {\n",
        "    1: loc1,\n",
        "    2: loc2,\n",
        "}\n",
        "possible_equipment = {\n",
        "    1: eq1,\n",
        "    2: eq2,\n",
        "}\n",
        "possible_battery = {\n",
        "    1: bt1,\n",
        "    2: bt2,\n",
        "}\n",
        "\n",
        "locations_combinations = list(itertools.combinations(range(0, len(possible_locations)+1), len(possible_locations)))\n",
        "\n",
        "def _locations(combination):\n",
        "  return [possible_locations[i] for i in combination if i in possible_locations]\n",
        "\n",
        "cached_solutions = Cache()\n",
        "\n",
        "def get_cached_solution(building, A, B, C, D, E):\n",
        "    def _calc():\n",
        "        locations, eq, eq_count, bt, bt_count = _locations(A), possible_equipment[B], C, possible_battery[D], E\n",
        "        eq.pv_count = eq_count\n",
        "        locations[0].equipment = [eq]\n",
        "        building.locations = locations\n",
        "        building.updated()\n",
        "        _total_energy_storage_needed = building.get_total_energy_storage_needed()\n",
        "        _total_building_energy_costs = total_building_energy_costs(building)\n",
        "        return _total_building_energy_costs, _total_energy_storage_needed\n",
        "    return cached_solutions.get_cached_solution((A, B, C), _calc)"
      ],
      "metadata": {
        "colab": {
          "base_uri": "https://localhost:8080/"
        },
        "id": "sc-5LZe8mglf",
        "outputId": "82f585d4-959d-499e-a540-d6e4d3a300bf"
      },
      "execution_count": null,
      "outputs": [
        {
          "output_type": "stream",
          "name": "stdout",
          "text": [
            "total_production: 799276.3\n",
            "total_consumption: 886859.8\n",
            "total_solar_energy_consumption: 799276.3\n",
            "total_solar_energy_underproduction: 87583.5\n",
            "total_renting_costs: 23.9\n"
          ]
        }
      ]
    },
    {
      "cell_type": "code",
      "source": [
        "locations_combinations"
      ],
      "metadata": {
        "colab": {
          "base_uri": "https://localhost:8080/"
        },
        "id": "fH6fRgKpXDMn",
        "outputId": "a7211407-6bee-4a49-d859-10e38b32a60b"
      },
      "execution_count": null,
      "outputs": [
        {
          "output_type": "execute_result",
          "data": {
            "text/plain": [
              "[(0, 1), (0, 2), (1, 2)]"
            ]
          },
          "metadata": {},
          "execution_count": 8
        }
      ]
    },
    {
      "cell_type": "code",
      "source": [
        "%%time\n",
        "problem = constraint.Problem()\n",
        "problem.addVariable('A', locations_combinations) # locations involved\n",
        "problem.addVariable('B', range(1, len(possible_equipment)+1)) # equipment id\n",
        "problem.addVariable('C', range(1, 7)) # equipment count\n",
        "problem.addVariable('D', range(1, len(possible_battery)+1)) # battery id\n",
        "problem.addVariable('E', range(0, 7)) # battery count\n",
        "\n",
        "def equipment_square_constraint(A, B, C):\n",
        "    locations, eq, eq_count = _locations(A), possible_equipment[B], C\n",
        "    total_square_available = sum([loc.size_m[0] * loc.size_m[1] * 10 ** 6 for loc in locations])\n",
        "    return eq.pv_size_mm[0] * eq.pv_size_mm[1] * eq_count < total_square_available\n",
        "\n",
        "def battery_voltage_constraint(B, D):\n",
        "    eq, bt = possible_equipment[B], possible_battery[D]\n",
        "    return eq.pv_voltage == bt.battery_voltage\n",
        "\n",
        "def battery_capacity_constraint(A, B, C, D, E):\n",
        "    bt, bt_count = possible_battery[D], E\n",
        "    _, _total_energy_storage_needed = get_cached_solution(building, A, B, C, D, E)\n",
        "    return (bt.battery_energy_Wh * bt.battery_discharge_factor * bt_count >= _total_energy_storage_needed)\n",
        "\n",
        "problem.addConstraint(equipment_square_constraint, \"ABC\")\n",
        "problem.addConstraint(battery_voltage_constraint, \"BD\")\n",
        "problem.addConstraint(battery_capacity_constraint, \"ABCDE\")\n",
        "solutions = problem.getSolutions()\n",
        "cached_solutions.save()\n",
        "print(f\"solutions: {len(solutions)}, cahed: {len(cached_solutions.storage)}\")"
      ],
      "metadata": {
        "colab": {
          "base_uri": "https://localhost:8080/"
        },
        "id": "AZQdlNX4hLVd",
        "outputId": "494fa7dd-190f-4406-92a2-13838e883824"
      },
      "execution_count": null,
      "outputs": [
        {
          "output_type": "stream",
          "name": "stdout",
          "text": [
            "solutions: 310, cahed: 77\n",
            "CPU times: user 4.13 ms, sys: 969 µs, total: 5.09 ms\n",
            "Wall time: 5.04 ms\n"
          ]
        }
      ]
    },
    {
      "cell_type": "code",
      "source": [
        "%%time\n",
        "optimal_costs = +np.Inf\n",
        "optimal_solution = {}\n",
        "\n",
        "def _calc_costs(solution):\n",
        "    A, B, C, D, E = solution['A'], solution['B'], solution['C'], solution['D'], solution['E']\n",
        "    _total_building_energy_costs, _total_energy_storage_needed = get_cached_solution(building, A, B, C, D, E)\n",
        "    locations, eq, eq_count, bt, bt_count = _locations(A), possible_equipment[B], C, possible_battery[D], E\n",
        "    bt.battery_count = bt_count\n",
        "    return _total_building_energy_costs + _calc_battery_costs(bt)\n",
        "\n",
        "sorted_solutions = sorted(solutions, key=_calc_costs)\n",
        "optimal_solution = sorted_solutions[0]\n",
        "\n",
        "print(f'top-3 solutions:')\n",
        "for i in sorted_solutions[:3]:\n",
        "    print(i, 'cost:', _calc_costs(i))\n",
        "\n",
        "print()\n",
        "print(f\"optimal solution: {optimal_solution}\")\n",
        "A, B, C, D, E = optimal_solution['A'], optimal_solution['B'], optimal_solution['C'], optimal_solution['D'], optimal_solution['E']\n",
        "locations, eq, eq_count, bt, bt_count = _locations(A), possible_equipment[B], C, possible_battery[D], E\n",
        "bt.battery_count = bt_count\n",
        "eq.battery = [bt]\n",
        "eq.pv_count = eq_count\n",
        "locations[0].equipment = [eq]\n",
        "building.locations = locations\n",
        "building.updated()\n",
        "\n",
        "print(f\"total_production: {building.production['production'].sum():.1f}\")\n",
        "print(f\"total_solar_energy_underproduction: {building.total_solar_energy_underproduction:.1f}\")\n",
        "print(f\"total_building_energy_costs: {total_building_energy_costs(building):.1f}\")\n",
        "print(f\"total_renting_costs: {building.total_renting_costs:.1f}\")\n",
        "print(f\"total_battery_costs: {eq.total_battery_costs:.1f}\")"
      ],
      "metadata": {
        "colab": {
          "base_uri": "https://localhost:8080/"
        },
        "id": "skPp45YaqWks",
        "outputId": "35c7e65d-2d22-4f6a-8285-1b11495d655b"
      },
      "execution_count": null,
      "outputs": [
        {
          "output_type": "stream",
          "name": "stdout",
          "text": [
            "top-3 solutions:\n",
            "{'B': 1, 'D': 2, 'A': (0, 2), 'C': 3, 'E': 2} cost: 908397.8569226706\n",
            "{'B': 1, 'D': 2, 'A': (0, 1), 'C': 3, 'E': 2} cost: 908397.8569226706\n",
            "{'B': 1, 'D': 2, 'A': (0, 2), 'C': 4, 'E': 2} cost: 908400.2461706706\n",
            "\n",
            "optimal solution: {'B': 1, 'D': 2, 'A': (0, 2), 'C': 3, 'E': 2}\n",
            "total_production: 1198914.5\n",
            "total_solar_energy_underproduction: 0.0\n",
            "total_building_energy_costs: 886867.0\n",
            "total_renting_costs: 7.2\n",
            "total_battery_costs: 21530.9\n",
            "CPU times: user 130 ms, sys: 4.71 ms, total: 135 ms\n",
            "Wall time: 149 ms\n"
          ]
        }
      ]
    },
    {
      "cell_type": "code",
      "source": [
        "top-3 solutions:\n",
        "{'B': 1, 'D': 2, 'A': (0, 2), 'C': 3, 'E': 2} cost: 908397.8569226706\n",
        "{'B': 1, 'D': 2, 'A': (0, 1), 'C': 3, 'E': 2} cost: 908397.8569226706\n",
        "{'B': 1, 'D': 2, 'A': (0, 2), 'C': 4, 'E': 2} cost: 908400.2461706706\n",
        "\n",
        "optimal solution: {'B': 1, 'D': 2, 'A': (0, 2), 'C': 3, 'E': 2}\n",
        "total_production: 1198914.5\n",
        "total_solar_energy_underproduction: 0.0\n",
        "total_building_energy_costs: 886867.0\n",
        "total_renting_costs: 7.2\n",
        "total_battery_costs: 21530.9\n",
        "CPU times: user 98.4 ms, sys: 2.01 ms, total: 100 ms\n",
        "Wall time: 105 ms\n"
      ],
      "metadata": {
        "id": "VaLAOEV0krvH"
      },
      "execution_count": null,
      "outputs": []
    },
    {
      "cell_type": "code",
      "source": [],
      "metadata": {
        "id": "9yvS-kprkryj"
      },
      "execution_count": null,
      "outputs": []
    },
    {
      "cell_type": "code",
      "source": [],
      "metadata": {
        "id": "9Plf_cCEdpph"
      },
      "execution_count": null,
      "outputs": []
    },
    {
      "cell_type": "code",
      "source": [],
      "metadata": {
        "id": "cKW06lwxkaIB"
      },
      "execution_count": null,
      "outputs": []
    },
    {
      "cell_type": "code",
      "source": [
        "total_energy_storage = peak_daily_consumption * autonomy_period_days\n",
        "battery_capacity = total_energy_storage / battery_discharge_factor"
      ],
      "metadata": {
        "id": "nurMnmNckaKt"
      },
      "execution_count": null,
      "outputs": []
    },
    {
      "cell_type": "markdown",
      "source": [
        "* Determine Energy Requirements: Calculate the daily energy consumption of your appliances and devices that will be powered by the solar panel system. This will give you an estimate of the daily energy demand that the battery needs to fulfill.\n",
        "* Account for Peak Load and Autonomy: Consider peak load times when your energy consumption might be higher than usual. Determine the desired autonomy period (number of days the battery can power your system without solar input) during cloudy or low-sunlight periods.\n",
        "* Calculate Total Energy Storage Needed: Multiply the daily energy consumption by the desired autonomy period to calculate the total energy storage required. This will help you size the battery capacity.\n",
        "* Choose Battery Type: Select the appropriate battery chemistry based on your requirements:\n",
        "** Lead-Acid Batteries (Flooded, AGM, Gel): Affordable but lower cycle life and efficiency.\n",
        "** Lithium-Ion Batteries (LiFePO4, NMC, LFP, etc.): Higher cycle life, efficiency, and energy density but generally costlier.\n",
        "* Determine Battery Capacity: Divide the total energy storage needed by the battery's depth of discharge (DoD) factor. The DoD represents the portion of the battery's capacity that can be used without significantly affecting its lifespan. For example, if the battery has a DoD of 80%, then you can use 80% of its capacity.\n",
        "* Consider System Voltage: Determine the system voltage based on your solar panel configuration (e.g., 12V, 24V, 48V). Choose a battery bank that matches the system voltage."
      ],
      "metadata": {
        "id": "elDHlsqldLn1"
      }
    },
    {
      "cell_type": "code",
      "source": [
        "https://www.youtube.com/watch?v=OPNBWaBZvjc&ab_channel=%D0%94%D0%B5%D1%80%D0%B5%D0%B2%D0%B5%D0%BD%D1%81%D0%BA%D0%B8%D0%B9%D1%84%D0%BE%D1%82%D0%BE%D0%B3%D1%80%D0%B0%D1%84\n",
        "\n",
        "потребление - 1 кВт 8 часов в сутки\n",
        "аккумулятор - 12 В х 60 Ah = 720 Втч * 0,7 = 504 Втч - полчас"
      ],
      "metadata": {
        "id": "7_2qDHaZkaNe"
      },
      "execution_count": null,
      "outputs": []
    }
  ]
}